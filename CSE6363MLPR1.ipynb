{
 "cells": [
  {
   "cell_type": "markdown",
   "id": "d9e36846",
   "metadata": {},
   "source": [
    "# USPS DATASET CLASSIFICATION USING K NEAREST NEIGHBOR CLASSFIER"
   ]
  },
  {
   "cell_type": "code",
   "execution_count": 1,
   "id": "c5e9787f",
   "metadata": {},
   "outputs": [],
   "source": [
    "import numpy as np\n",
    "import pandas as pd\n",
    "import matplotlib.pyplot as plt\n",
    "import sklearn\n",
    "import h5py\n",
    "from sklearn.model_selection import GridSearchCV\n",
    "from sklearn.metrics import confusion_matrix, ConfusionMatrixDisplay"
   ]
  },
  {
   "cell_type": "code",
   "execution_count": 2,
   "id": "56afd1ff",
   "metadata": {},
   "outputs": [
    {
     "name": "stdout",
     "output_type": "stream",
     "text": [
      "Dataset in this file:  ['test', 'train']\n",
      "Shape of the dataset:  (7291, 256)\n",
      "Shape of the dataset:  (2007, 256)\n"
     ]
    }
   ],
   "source": [
    "with h5py.File('usps.h5', 'r') as hf: \n",
    "    ls= list(hf.keys())\n",
    "    print(\"Dataset in this file: \",ls)\n",
    "    \n",
    "    #acquiring traindataset\n",
    "    train=hf.get('train')\n",
    "    X_train = train.get('data')[:]\n",
    "    y_train = train.get('target')[:]\n",
    "\n",
    "    print(\"Shape of the dataset: \",X_train.shape)\n",
    "    #acquiring testdataset\n",
    "    test=hf.get('test')\n",
    "    X_test = test.get('data')[:]\n",
    "    y_test = test.get('target')[:]\n",
    "    print(\"Shape of the dataset: \",X_test.shape)"
   ]
  },
  {
   "cell_type": "code",
   "execution_count": 3,
   "id": "2a0ed3c5",
   "metadata": {},
   "outputs": [
    {
     "data": {
      "image/png": "[encoded data removed]",
      "text/plain": [
       "<Figure size 432x288 with 1 Axes>"
      ]
     },
     "metadata": {
      "needs_background": "light"
     },
     "output_type": "display_data"
    }
   ],
   "source": [
    "sample = X_test[0]\n",
    "sampleimg = sample.reshape(16, 16)\n",
    "plt.imshow(sampleimg, cmap='binary')\n",
    "plt.axis('off')\n",
    "plt.show()"
   ]
  },
  {
   "cell_type": "code",
   "execution_count": 4,
   "id": "954cbb97",
   "metadata": {},
   "outputs": [
    {
     "data": {
      "text/plain": [
       "9"
      ]
     },
     "execution_count": 4,
     "metadata": {},
     "output_type": "execute_result"
    }
   ],
   "source": [
    "y_test[0]"
   ]
  },
  {
   "cell_type": "markdown",
   "id": "8d06d167",
   "metadata": {},
   "source": [
    "### Exhaustive Search using GridSearchCV\n",
    "##### - Finding the best parameters for our model"
   ]
  },
  {
   "cell_type": "code",
   "execution_count": 5,
   "id": "3320614b",
   "metadata": {},
   "outputs": [],
   "source": [
    "from sklearn.neighbors import KNeighborsClassifier\n",
    "\n",
    "knn = KNeighborsClassifier(n_jobs=-1)"
   ]
  },
  {
   "cell_type": "code",
   "execution_count": 6,
   "id": "ff686633",
   "metadata": {},
   "outputs": [
    {
     "name": "stdout",
     "output_type": "stream",
     "text": [
      "Fitting 5 folds for each of 6 candidates, totalling 30 fits\n"
     ]
    },
    {
     "data": {
      "text/plain": [
       "GridSearchCV(cv=5, estimator=KNeighborsClassifier(n_jobs=-1), n_jobs=-1,\n",
       "             param_grid={'n_neighbors': [3, 4, 5],\n",
       "                         'weights': ['uniform', 'distance']},\n",
       "             scoring='accuracy', verbose=3)"
      ]
     },
     "execution_count": 6,
     "metadata": {},
     "output_type": "execute_result"
    }
   ],
   "source": [
    "grid = {\n",
    "    'weights': ['uniform', 'distance'],\n",
    "    'n_neighbors': [3, 4, 5]\n",
    "}\n",
    "gridsearch = GridSearchCV(estimator=knn, param_grid=grid, scoring='accuracy', cv=5, verbose=3, n_jobs=-1)\n",
    "gridsearch.fit(X=X_train, y=y_train)"
   ]
  },
  {
   "cell_type": "code",
   "execution_count": 7,
   "id": "bd8f45ed",
   "metadata": {},
   "outputs": [
    {
     "data": {
      "text/plain": [
       "0.9661220126531221"
      ]
     },
     "execution_count": 7,
     "metadata": {},
     "output_type": "execute_result"
    }
   ],
   "source": [
    "gridsearch.best_score_"
   ]
  },
  {
   "cell_type": "code",
   "execution_count": 8,
   "id": "c49d0e5f",
   "metadata": {},
   "outputs": [
    {
     "data": {
      "text/plain": [
       "{'n_neighbors': 4, 'weights': 'distance'}"
      ]
     },
     "execution_count": 8,
     "metadata": {},
     "output_type": "execute_result"
    }
   ],
   "source": [
    "gridsearch.best_params_"
   ]
  },
  {
   "cell_type": "markdown",
   "id": "4490d009",
   "metadata": {},
   "source": [
    "### Training our model with the best parameters"
   ]
  },
  {
   "cell_type": "code",
   "execution_count": 9,
   "id": "612a5d71",
   "metadata": {},
   "outputs": [
    {
     "name": "stdout",
     "output_type": "stream",
     "text": [
      "Accuracy: 0.9471848530144494\n"
     ]
    }
   ],
   "source": [
    "#K=4\n",
    "from sklearn.neighbors import KNeighborsClassifier\n",
    "knn = KNeighborsClassifier(n_neighbors=4,n_jobs=-1,weights='distance')\n",
    "knn.fit(X_train, y_train)\n",
    "preds = knn.predict(X_test)\n",
    "print(\"Accuracy:\",knn.score(X_test,y_test))"
   ]
  },
  {
   "cell_type": "markdown",
   "id": "d8f2ba57",
   "metadata": {},
   "source": [
    "We've got an accuracy of **94.7%** !!! "
   ]
  },
  {
   "cell_type": "markdown",
   "id": "dbdc6cc7",
   "metadata": {},
   "source": [
    "### Visualizing 5 test samples and their predicted value by our model\n"
   ]
  },
  {
   "cell_type": "code",
   "execution_count": 10,
   "id": "a76e046f",
   "metadata": {},
   "outputs": [
    {
     "data": {
      "image/png": "[encoded data removed]",
      "text/plain": [
       "<Figure size 720x360 with 5 Axes>"
      ]
     },
     "metadata": {
      "needs_background": "light"
     },
     "output_type": "display_data"
    }
   ],
   "source": [
    " fig,axs = plt.subplots(nrows=1, ncols=5, figsize=(10, 5))\n",
    "for ax, image, prediction in zip(axs, X_test, preds):\n",
    "    ax.set_axis_off()\n",
    "    image = image.reshape(16, 16)\n",
    "    ax.imshow(image, cmap=plt.cm.gray_r, interpolation=\"nearest\")\n",
    "    ax.set_title(f\"Prediction: {prediction}\")"
   ]
  },
  {
   "cell_type": "markdown",
   "id": "c112c9b2",
   "metadata": {},
   "source": [
    "### Confusion Matrix\n",
    "#### -Let's visualize the performance of our model"
   ]
  },
  {
   "cell_type": "code",
   "execution_count": 11,
   "id": "674df355",
   "metadata": {},
   "outputs": [
    {
     "data": {
      "image/png": "[encoded data removed]",
      "text/plain": [
       "<Figure size 432x288 with 2 Axes>"
      ]
     },
     "metadata": {
      "needs_background": "light"
     },
     "output_type": "display_data"
    }
   ],
   "source": [
    "cm = confusion_matrix(y_test, preds, labels=knn.classes_)\n",
    "cmd = ConfusionMatrixDisplay(confusion_matrix=cm,display_labels=knn.classes_)\n",
    "cmd.plot()\n",
    "plt.show()"
   ]
  }
 ],
 "metadata": {
  "kernelspec": {
   "display_name": "Python 3",
   "language": "python",
   "name": "python3"
  },
  "language_info": {
   "codemirror_mode": {
    "name": "ipython",
    "version": 3
   },
   "file_extension": ".py",
   "mimetype": "text/x-python",
   "name": "python",
   "nbconvert_exporter": "python",
   "pygments_lexer": "ipython3",
   "version": "3.8.8"
  }
 },
 "nbformat": 4,
 "nbformat_minor": 5
}
